{
 "cells": [
  {
   "cell_type": "code",
   "execution_count": 1,
   "metadata": {},
   "outputs": [
    {
     "name": "stderr",
     "output_type": "stream",
     "text": [
      "Using TensorFlow backend.\n"
     ]
    }
   ],
   "source": [
    "import numpy as np\n",
    "import pandas as pd\n",
    "import pydicom\n",
    "%matplotlib inline\n",
    "import matplotlib.pyplot as plt\n",
    "import keras\n",
    "import tensorflow as tf\n",
    "from skimage.transform import resize"
   ]
  },
  {
   "cell_type": "code",
   "execution_count": 2,
   "metadata": {},
   "outputs": [],
   "source": [
    "# This function reads in a .dcm file, checks the important fields for our device, and returns a numpy array\n",
    "# of just the imaging data\n",
    "# image generator used in valid_data and test_data\n",
    "val_idg = keras.preprocessing.image.ImageDataGenerator(rescale = 1/ 255.0, \n",
    "                         samplewise_center=True, \n",
    "                          samplewise_std_normalization=True\n",
    "                        )\n",
    "\n",
    "def check_dicom(filename): \n",
    "    # todo\n",
    "    print('Load file {} ...'.format(filename))\n",
    "    ds = pydicom.dcmread(filename)\n",
    "    print('{} information:'.format(filename))\n",
    "    print('Modality: {}'.format(ds.Modality))\n",
    "    print('Body Part Examined: {}'.format(ds.BodyPartExamined))\n",
    "    print('Patient Age: {}'.format(ds.PatientAge))\n",
    "    print('Patient Position: {}'.format(ds.PatientPosition)) \n",
    "    if ds.Modality != 'DX':\n",
    "        print('Not a valid input data: Modality is not DX')\n",
    "        return\n",
    "    if ds.BodyPartExamined != 'CHEST':\n",
    "        print('Not a valid input data: Body Part Examined is not CHEST')\n",
    "        return\n",
    "    if not (1 <= int(ds.PatientAge) <= 90):\n",
    "        print('Not a valid input data: patient age is out of range')\n",
    "        return\n",
    "    if ds.PatientPosition not in {'AP', 'PA'}:\n",
    "        print('Not a valid input data: Patient Position is not AP or PA')\n",
    "        return\n",
    "    return ds.pixel_array\n",
    "    \n",
    "def preprocess_image(img, target_size): \n",
    "    # todo\n",
    "    img = resize(img, (target_size[1], target_size[2]))\n",
    "    proc_img = np.zeros(target_size)\n",
    "    # make the input image as target_size\n",
    "    for i in range(target_size[3]):\n",
    "        proc_img[0][:,:,i] = img\n",
    "    proc_img = val_idg.flow(proc_img).next()\n",
    "    return proc_img\n",
    "\n",
    "# This function loads in our trained model w/ weights and compiles it \n",
    "def load_model(model_path, weight_path):\n",
    "    # todo\n",
    "    with open(model_path, 'r') as json_file:\n",
    "        model_json = json_file.read()\n",
    "        model = tf.keras.models.model_from_json(model_json)\n",
    "        model.load_weights(weight_path)\n",
    "    return model\n",
    "\n",
    "# This function uses our device's threshold parameters to predict whether or not\n",
    "# the image shows the presence of pneumonia using our trained model\n",
    "def predict_image(model, img, thresh): \n",
    "    # todo    \n",
    "    labels = ['No Finding', 'Pneumonia']\n",
    "    score = model.predict(img)[0][0]\n",
    "    prediction = labels[int(score >= thresh)]\n",
    "    return prediction, score"
   ]
  },
  {
   "cell_type": "code",
   "execution_count": 4,
   "metadata": {},
   "outputs": [],
   "source": [
    "test_dicoms = ['test1.dcm','test2.dcm','test3.dcm','test4.dcm','test5.dcm','test6.dcm']\n",
    "\n",
    "#path to saved model\n",
    "model_path = 'my_model.json'\n",
    "#path to saved best weights\n",
    "weight_path = 'xray_class_my_model.best.hdf5'\n",
    "\n",
    "IMG_SIZE=(1,224,224,3) # This might be different if you did not use vgg16"
   ]
  },
  {
   "cell_type": "code",
   "execution_count": 5,
   "metadata": {},
   "outputs": [
    {
     "name": "stdout",
     "output_type": "stream",
     "text": [
      "================================================================================\n",
      "Load file test1.dcm ...\n",
      "test1.dcm information:\n",
      "Modality: DX\n",
      "Body Part Examined: CHEST\n",
      "Patient Age: 81\n",
      "Patient Position: PA\n",
      "Predicted label: No Finding, Score: 0.42\n",
      "================================================================================\n",
      "Load file test2.dcm ...\n",
      "test2.dcm information:\n",
      "Modality: DX\n",
      "Body Part Examined: CHEST\n",
      "Patient Age: 58\n",
      "Patient Position: AP\n",
      "Predicted label: No Finding, Score: 0.44\n",
      "================================================================================\n",
      "Load file test3.dcm ...\n",
      "test3.dcm information:\n",
      "Modality: DX\n",
      "Body Part Examined: CHEST\n",
      "Patient Age: 77\n",
      "Patient Position: AP\n",
      "Predicted label: Pneumonia, Score: 0.76\n",
      "================================================================================\n",
      "Load file test4.dcm ...\n",
      "test4.dcm information:\n",
      "Modality: DX\n",
      "Body Part Examined: RIBCAGE\n",
      "Patient Age: 81\n",
      "Patient Position: PA\n",
      "Not a valid input data: Body Part Examined is not CHEST\n",
      "================================================================================\n",
      "Load file test5.dcm ...\n",
      "test5.dcm information:\n",
      "Modality: CT\n",
      "Body Part Examined: CHEST\n",
      "Patient Age: 81\n",
      "Patient Position: PA\n",
      "Not a valid input data: Modality is not DX\n",
      "================================================================================\n",
      "Load file test6.dcm ...\n",
      "test6.dcm information:\n",
      "Modality: DX\n",
      "Body Part Examined: CHEST\n",
      "Patient Age: 81\n",
      "Patient Position: XX\n",
      "Not a valid input data: Patient Position is not AP or PA\n"
     ]
    }
   ],
   "source": [
    "#loads model\n",
    "my_model = load_model(model_path, weight_path)\n",
    "#loads the threshold they chose for model classification \n",
    "thresh = 0.5 \n",
    "    \n",
    "for i in test_dicoms:\n",
    "    print('='*80)\n",
    "    img = np.array([])\n",
    "    img = check_dicom(i)\n",
    "    if img is None:\n",
    "        continue\n",
    "    img_proc = preprocess_image(img, IMG_SIZE)\n",
    "    pred, score = predict_image(my_model,img_proc,thresh)\n",
    "    print('Predicted label: {}, Score: {:.2f}'.format(pred, score))"
   ]
  }
 ],
 "metadata": {
  "kernelspec": {
   "display_name": "Python 3",
   "language": "python",
   "name": "python3"
  },
  "language_info": {
   "codemirror_mode": {
    "name": "ipython",
    "version": 3
   },
   "file_extension": ".py",
   "mimetype": "text/x-python",
   "name": "python",
   "nbconvert_exporter": "python",
   "pygments_lexer": "ipython3",
   "version": "3.7.6"
  }
 },
 "nbformat": 4,
 "nbformat_minor": 2
}
